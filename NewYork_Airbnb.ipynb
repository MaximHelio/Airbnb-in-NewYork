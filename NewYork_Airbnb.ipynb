{
 "cells": [
  {
   "cell_type": "markdown",
   "metadata": {
    "id": "NqqLNJZjfi8U"
   },
   "source": [
    "# 뉴욕 두개짜리 방 에어비엔비 적당한 숙박료를 구하기\n",
    "----------\n",
    "\n",
    "    AB_NYC_2019.csv\n",
    "    \n",
    "    - 각 파일의 컬럼\n",
    "    id\n",
    "    name\n",
    "    host_id\n",
    "    host_name\n",
    "    neighbourhood_group\n",
    "    neighbourhood\n",
    "    latitude\n",
    "    longitude\n",
    "    room_type\n",
    "    price\n",
    "    minimum_nights\n",
    "    number_of_reviews\n",
    "    last_review\n",
    "    reviews_per_month\n",
    "    calculated_host_listings_count\n",
    "    availability_365\n",
    "\n",
    "## 목표\n",
    "    - 스크래핑된 dirty 데이터 클리닝 방법 이해\n",
    "    - 다양한 종류의 데이터 정규화 방법 습득\n",
    "    - 데이터 시각화를 통한 인사이트 습득 방법의 이해\n",
    "    - Scikit-learn 기반의 모델 학습 방법 습득\n",
    "    - 학습된 모델로 부터의 인사이트 획득 방법 습득\n",
    "\n",
    "---"
   ]
  },
  {
   "cell_type": "markdown",
   "metadata": {
    "id": "IRssoNrgP7So"
   },
   "source": [
    "## Step 1. 데이터셋 준비"
   ]
  },
  {
   "cell_type": "code",
   "execution_count": 1,
   "metadata": {
    "id": "g49RuFGrBvt7"
   },
   "outputs": [],
   "source": [
    "import pandas as pd\n",
    "import numpy as np\n",
    "import matplotlib.pyplot as plt\n",
    "import seaborn as sns"
   ]
  },
  {
   "cell_type": "markdown",
   "metadata": {
    "id": "9L3BNVM7tHN5"
   },
   "source": [
    "## Step 2. EDA 및 데이터 기초 통계 분석\n"
   ]
  },
  {
   "cell_type": "markdown",
   "metadata": {
    "id": "HyFm33tNtVn7"
   },
   "source": [
    "#### 불필요한 데이터 데이터프레임에서 제거\n"
   ]
  },
  {
   "cell_type": "markdown",
   "metadata": {
    "id": "HGHvPwkNtXgj"
   },
   "source": [
    "#### 수치형 데이터와 Price의 Jointplot 분석\n"
   ]
  },
  {
   "cell_type": "markdown",
   "metadata": {
    "id": "amkU5Y6g7Dp4"
   },
   "source": [
    "#### 수치형 데이터와 Price의 상관성 분석"
   ]
  },
  {
   "cell_type": "markdown",
   "metadata": {
    "id": "Ga7Lzcw8TH0G"
   },
   "source": [
    "#### 범주형 데이터와 Price의 Boxplot 계열 및 Histogram 분석"
   ]
  },
  {
   "cell_type": "markdown",
   "metadata": {
    "id": "izztXKpllMss"
   },
   "source": [
    "## Step 3. 데이터 클리닝"
   ]
  },
  {
   "cell_type": "markdown",
   "metadata": {
    "id": "KywGh9sjtYl9"
   },
   "source": [
    "#### 미기입, 오기입 데이터 확인"
   ]
  },
  {
   "cell_type": "markdown",
   "metadata": {
    "id": "CXLd43EZ9EgS"
   },
   "source": [
    "#### 아웃라이어 제거, 통계 재분석"
   ]
  },
  {
   "cell_type": "markdown",
   "metadata": {
    "id": "2Z62otW9lgtX"
   },
   "source": [
    "#### 미기입 데이터 처리"
   ]
  },
  {
   "cell_type": "markdown",
   "metadata": {
    "id": "FRfd7ABjepBS"
   },
   "source": [
    "## Step 4. 모델 학습을 위한 데이터 전처리 "
   ]
  },
  {
   "cell_type": "markdown",
   "metadata": {
    "id": "sWIF67-8lr4C"
   },
   "source": [
    "#### get_dummies를 이용한 범주형 데이터 전처리"
   ]
  },
  {
   "cell_type": "markdown",
   "metadata": {
    "id": "Dev2yLeMta85"
   },
   "source": [
    "#### StandardScaler를 이용한 수치형 데이터 표준화\n"
   ]
  },
  {
   "cell_type": "markdown",
   "metadata": {
    "id": "x93Tb6lptcA2"
   },
   "source": [
    "#### 학습데이터와 테스트데이터 분리\n"
   ]
  },
  {
   "cell_type": "markdown",
   "metadata": {
    "id": "RrWrE8Z4exup"
   },
   "source": [
    "## Step 5. Regression 모델 학습하기"
   ]
  },
  {
   "cell_type": "markdown",
   "metadata": {
    "id": "NypEtNhdfCow"
   },
   "source": [
    "#### XGBoost Regression 모델 학습"
   ]
  },
  {
   "cell_type": "markdown",
   "metadata": {
    "id": "gUo8NmHkfIpf"
   },
   "source": [
    "####  모델 학습 결과 평가"
   ]
  },
  {
   "cell_type": "markdown",
   "metadata": {
    "id": "DTqb-HqPtc4I"
   },
   "source": [
    "## Step 6. 모델 학습 결과 분석\n"
   ]
  },
  {
   "cell_type": "markdown",
   "metadata": {
    "id": "xTRTOLTNto3h"
   },
   "source": [
    "####  실제 값과 추측 값의 Scatter plot 시각화\n"
   ]
  },
  {
   "cell_type": "markdown",
   "metadata": {
    "id": "kAisZoSEtp35"
   },
   "source": [
    "#### 에러 값의 히스토그램 확인\n"
   ]
  }
 ],
 "metadata": {
  "colab": {
   "collapsed_sections": [],
   "name": "2_2_뉴욕에서_방이_둘_딸린_집을_에어비엔비에_내놓으려_한다_이_때_적당한_숙박료를_구하시오_(5점).ipynb",
   "provenance": []
  },
  "kernelspec": {
   "display_name": "Python 3 (ipykernel)",
   "language": "python",
   "name": "python3"
  },
  "language_info": {
   "codemirror_mode": {
    "name": "ipython",
    "version": 3
   },
   "file_extension": ".py",
   "mimetype": "text/x-python",
   "name": "python",
   "nbconvert_exporter": "python",
   "pygments_lexer": "ipython3",
   "version": "3.8.9"
  }
 },
 "nbformat": 4,
 "nbformat_minor": 4
}
