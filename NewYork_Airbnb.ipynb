{
 "cells": [
  {
   "cell_type": "markdown",
   "metadata": {
    "id": "NqqLNJZjfi8U"
   },
   "source": [
    "# 뉴욕 두개짜리 방 에어비엔비 적당한 숙박료를 구하기\n",
    "----------\n",
    "\n",
    "    AB_NYC_2019.csv\n",
    "    \n",
    "    - 각 파일의 컬럼\n",
    "    id\n",
    "    name\n",
    "    host_id\n",
    "    host_name\n",
    "    neighbourhood_group\n",
    "    neighbourhood\n",
    "    latitude\n",
    "    longitude\n",
    "    room_type\n",
    "    price\n",
    "    minimum_nights\n",
    "    number_of_reviews\n",
    "    last_review\n",
    "    reviews_per_month\n",
    "    calculated_host_listings_count\n",
    "    availability_365\n",
    "\n",
    "## 목표\n",
    "    - 스크래핑된 dirty 데이터 클리닝 방법 이해\n",
    "    - 다양한 종류의 데이터 정규화 방법 습득\n",
    "    - 데이터 시각화를 통한 인사이트 습득 방법의 이해\n",
    "    - Scikit-learn 기반의 모델 학습 방법 습득\n",
    "    - 학습된 모델로 부터의 인사이트 획득 방법 습득\n",
    "\n",
    "---"
   ]
  },
  {
   "cell_type": "markdown",
   "metadata": {
    "id": "IRssoNrgP7So"
   },
   "source": [
    "## Step 1. Preparation of Dataset"
   ]
  },
  {
   "cell_type": "code",
   "execution_count": 1,
   "metadata": {
    "id": "g49RuFGrBvt7"
   },
   "outputs": [],
   "source": [
    "import pandas as pd\n",
    "import numpy as np\n",
    "import matplotlib.pyplot as plt\n",
    "import seaborn as sns"
   ]
  },
  {
   "cell_type": "markdown",
   "metadata": {
    "id": "9L3BNVM7tHN5"
   },
   "source": [
    "## Step 2. Exploratory Data Analaysis"
   ]
  },
  {
   "cell_type": "markdown",
   "metadata": {
    "id": "izztXKpllMss"
   },
   "source": [
    "## Step 3. Data-Cleaning"
   ]
  },
  {
   "cell_type": "markdown",
   "metadata": {},
   "source": [
    " - 데이터에서 오류, 이상치, 누락된 값을 식별하고 수정"
   ]
  },
  {
   "cell_type": "markdown",
   "metadata": {
    "id": "FRfd7ABjepBS"
   },
   "source": [
    "## Step 4. Data-Preprocessing"
   ]
  },
  {
   "cell_type": "markdown",
   "metadata": {},
   "source": [
    "- 데이터를 분석이나 모델학습에 적합한 형태로 가공"
   ]
  },
  {
   "cell_type": "markdown",
   "metadata": {
    "id": "RrWrE8Z4exup"
   },
   "source": [
    "## Step 5. Learning Model"
   ]
  },
  {
   "cell_type": "markdown",
   "metadata": {
    "id": "DTqb-HqPtc4I"
   },
   "source": [
    "## Step 6. Analysis of Model Performance\n"
   ]
  }
 ],
 "metadata": {
  "colab": {
   "collapsed_sections": [],
   "name": "2_2_뉴욕에서_방이_둘_딸린_집을_에어비엔비에_내놓으려_한다_이_때_적당한_숙박료를_구하시오_(5점).ipynb",
   "provenance": []
  },
  "kernelspec": {
   "display_name": "Python 3 (ipykernel)",
   "language": "python",
   "name": "python3"
  },
  "language_info": {
   "codemirror_mode": {
    "name": "ipython",
    "version": 3
   },
   "file_extension": ".py",
   "mimetype": "text/x-python",
   "name": "python",
   "nbconvert_exporter": "python",
   "pygments_lexer": "ipython3",
   "version": "3.8.9"
  }
 },
 "nbformat": 4,
 "nbformat_minor": 4
}
